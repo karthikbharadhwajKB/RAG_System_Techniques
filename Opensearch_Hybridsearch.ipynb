{
 "cells": [
  {
   "cell_type": "markdown",
   "metadata": {},
   "source": [
    "### OpenSearch - Hybrid Search "
   ]
  },
  {
   "cell_type": "markdown",
   "metadata": {},
   "source": [
    "Importing Required Libraries"
   ]
  },
  {
   "cell_type": "code",
   "execution_count": 1,
   "metadata": {},
   "outputs": [],
   "source": [
    "from OpenSearchVectorSearch import OpenSearchVectorSearch\n",
    "from utils import pretty_print\n",
    "import os"
   ]
  },
  {
   "cell_type": "markdown",
   "metadata": {},
   "source": [
    "Loading all environment variables"
   ]
  },
  {
   "cell_type": "code",
   "execution_count": 2,
   "metadata": {},
   "outputs": [
    {
     "data": {
      "text/plain": [
       "True"
      ]
     },
     "execution_count": 2,
     "metadata": {},
     "output_type": "execute_result"
    }
   ],
   "source": [
    "from dotenv import load_dotenv\n",
    "\n",
    "load_dotenv()"
   ]
  },
  {
   "cell_type": "markdown",
   "metadata": {},
   "source": [
    "Instantiating OpenSearchVectorSearch class\n",
    "\n",
    "Need to pass "
   ]
  },
  {
   "cell_type": "code",
   "execution_count": 3,
   "metadata": {},
   "outputs": [],
   "source": [
    "opensearch_vector_search = OpenSearchVectorSearch(\n",
    "    OPENSEARCH_URL=os.getenv('OPENSEARCH_URL'),\n",
    "    OPENSEARCH_PORT=os.getenv('OPENSEARCH_PORT'),\n",
    "    OPENSEARCH_USERNAME=os.getenv('OPENSEARCH_USERNAME'),\n",
    "    OPENSEARCH_PASSWORD=os.getenv('OPENSEARCH_PASSWORD'),\n",
    ")"
   ]
  },
  {
   "cell_type": "markdown",
   "metadata": {},
   "source": [
    "Creating Search Pipeline: "
   ]
  },
  {
   "cell_type": "code",
   "execution_count": 4,
   "metadata": {},
   "outputs": [
    {
     "name": "stderr",
     "output_type": "stream",
     "text": [
      "c:\\Users\\karthik.kolluri\\AppData\\Local\\anaconda3\\envs\\llm_apps\\lib\\site-packages\\urllib3\\connectionpool.py:1100: InsecureRequestWarning: Unverified HTTPS request is being made to host 'localhost'. Adding certificate verification is strongly advised. See: https://urllib3.readthedocs.io/en/latest/advanced-usage.html#tls-warnings\n",
      "  warnings.warn(\n"
     ]
    },
    {
     "name": "stdout",
     "output_type": "stream",
     "text": [
      "Search pipeline search_pipeline_1 created successfully....!\n",
      "Response: {'acknowledged': True}\n"
     ]
    }
   ],
   "source": [
    "opensearch_vector_search.create_search_pipeline(\n",
    "    search_pipeline_name=\"search_pipeline_1\",\n",
    "    keyword_weight=0.3,\n",
    "    vector_weight=0.7,\n",
    ")"
   ]
  },
  {
   "cell_type": "markdown",
   "metadata": {},
   "source": [
    "Hybrid Search"
   ]
  },
  {
   "cell_type": "code",
   "execution_count": 5,
   "metadata": {},
   "outputs": [
    {
     "name": "stderr",
     "output_type": "stream",
     "text": [
      "c:\\Users\\karthik.kolluri\\AppData\\Local\\anaconda3\\envs\\llm_apps\\lib\\site-packages\\urllib3\\connectionpool.py:1100: InsecureRequestWarning: Unverified HTTPS request is being made to host 'localhost'. Adding certificate verification is strongly advised. See: https://urllib3.readthedocs.io/en/latest/advanced-usage.html#tls-warnings\n",
      "  warnings.warn(\n"
     ]
    }
   ],
   "source": [
    "results = opensearch_vector_search.hybrid_search(\n",
    "    query=\"what is langchain?\",\n",
    "    top_k=3, \n",
    "    index_name=\"semantic-index\",\n",
    "    search_pipeline_name=\"search_pipeline_1\",\n",
    ")"
   ]
  },
  {
   "cell_type": "code",
   "execution_count": 6,
   "metadata": {},
   "outputs": [
    {
     "data": {
      "text/plain": [
       "[{'_index': 'semantic-index',\n",
       "  '_id': 'doc333#chunk0',\n",
       "  '_score': 1.0,\n",
       "  '_source': {'metadata': {'date': '2024-02-28',\n",
       "    'parent_id': 'doc333',\n",
       "    'name': 'Langchain',\n",
       "    'source': 'https://api.python.langchain.com/',\n",
       "    'published': False,\n",
       "    'lang': 'eng'},\n",
       "   'text': \"LangChain's developers highlight the framework's applicability to use-cases including chatbots,[7] retrieval-augmented generation,[8] document summarization,[9] and synthetic data generation. As of March 2023, LangChain included integrations with systems including Amazon, Google, and Microsoft Azure cloud storage; API wrappers for news, movie information, and weather; Bash for summarization,\"}},\n",
       " {'_index': 'semantic-index',\n",
       "  '_id': 'doc333#chunk4',\n",
       "  '_score': 0.13202284,\n",
       "  '_source': {'metadata': {'date': '2024-02-28',\n",
       "    'parent_id': 'doc333',\n",
       "    'name': 'Langchain',\n",
       "    'source': 'https://api.python.langchain.com/',\n",
       "    'published': False,\n",
       "    'lang': 'eng'},\n",
       "   'text': 'text mapping for k-nearest neighbors search; time zone conversion and calendar operations; tracing and recording stack symbols in threaded and asynchronous subprocess runs; and the Wolfram Alpha website and SDK.[13] As of April 2023, it can read from more than 50 document types and data sources.[14]'}},\n",
       " {'_index': 'semantic-index',\n",
       "  '_id': 'doc123#chunk4',\n",
       "  '_score': 0.0041903453,\n",
       "  '_source': {'metadata': {'date': '2020-09-16',\n",
       "    'parent_id': 'doc123',\n",
       "    'name': 'John wick: Chapter 1',\n",
       "    'source': 'https://johnwick.com/',\n",
       "    'published': True,\n",
       "    'lang': 'eng'},\n",
       "   'text': \"for the underworld and where conducting criminal business is forbidden. Winston, the hotel's owner and John's old friend, informs him that Iosef is at a nightclub called Red Circle. John infiltrates Red Circle and confronts Iosef, but he is attacked by Viggo's henchman Kirill and forced to retreat to the Continental for medical attention.As John rests, a hitwoman, Ms. Perkins, sneaks into his\"}}]"
      ]
     },
     "execution_count": 6,
     "metadata": {},
     "output_type": "execute_result"
    }
   ],
   "source": [
    "results"
   ]
  },
  {
   "cell_type": "code",
   "execution_count": 7,
   "metadata": {},
   "outputs": [
    {
     "name": "stdout",
     "output_type": "stream",
     "text": [
      "Document-1:\n",
      "==============================\n",
      "Content: \n",
      " LangChain's developers highlight the framework's applicability to use-cases including chatbots,[7] retrieval-augmented generation,[8] document summarization,[9] and synthetic data generation. As of March 2023, LangChain included integrations with systems including Amazon, Google, and Microsoft Azure cloud storage; API wrappers for news, movie information, and weather; Bash for summarization,\n",
      "\n",
      "\n",
      "Metadata: \n",
      " {'date': '2024-02-28', 'parent_id': 'doc333', 'name': 'Langchain', 'source': 'https://api.python.langchain.com/', 'published': False, 'lang': 'eng'}\n",
      "\n",
      "\n",
      "Score: 1.0\n",
      "\n",
      "\n",
      "-----------------------------------------------------------------------------------------------------------------------------\n",
      "Document-2:\n",
      "==============================\n",
      "Content: \n",
      " text mapping for k-nearest neighbors search; time zone conversion and calendar operations; tracing and recording stack symbols in threaded and asynchronous subprocess runs; and the Wolfram Alpha website and SDK.[13] As of April 2023, it can read from more than 50 document types and data sources.[14]\n",
      "\n",
      "\n",
      "Metadata: \n",
      " {'date': '2024-02-28', 'parent_id': 'doc333', 'name': 'Langchain', 'source': 'https://api.python.langchain.com/', 'published': False, 'lang': 'eng'}\n",
      "\n",
      "\n",
      "Score: 0.13202284\n",
      "\n",
      "\n",
      "-----------------------------------------------------------------------------------------------------------------------------\n",
      "Document-3:\n",
      "==============================\n",
      "Content: \n",
      " for the underworld and where conducting criminal business is forbidden. Winston, the hotel's owner and John's old friend, informs him that Iosef is at a nightclub called Red Circle. John infiltrates Red Circle and confronts Iosef, but he is attacked by Viggo's henchman Kirill and forced to retreat to the Continental for medical attention.As John rests, a hitwoman, Ms. Perkins, sneaks into his\n",
      "\n",
      "\n",
      "Metadata: \n",
      " {'date': '2020-09-16', 'parent_id': 'doc123', 'name': 'John wick: Chapter 1', 'source': 'https://johnwick.com/', 'published': True, 'lang': 'eng'}\n",
      "\n",
      "\n",
      "Score: 0.0041903453\n",
      "\n",
      "\n",
      "-----------------------------------------------------------------------------------------------------------------------------\n"
     ]
    }
   ],
   "source": [
    "pretty_print(results)"
   ]
  },
  {
   "cell_type": "markdown",
   "metadata": {},
   "source": [
    "#### Experiment - 1 \n",
    "\n",
    "\n"
   ]
  },
  {
   "cell_type": "markdown",
   "metadata": {},
   "source": [
    "#### Hybrid Search \n",
    "\n",
    "Keyword_weight: 1, vector_weight: 0 "
   ]
  },
  {
   "cell_type": "code",
   "execution_count": 6,
   "metadata": {},
   "outputs": [
    {
     "name": "stdout",
     "output_type": "stream",
     "text": [
      "Search pipeline search_pipeline_keyword_1_vector_0 created successfully....!\n",
      "Response: {'acknowledged': True}\n"
     ]
    },
    {
     "name": "stderr",
     "output_type": "stream",
     "text": [
      "c:\\Users\\karthik.kolluri\\AppData\\Local\\anaconda3\\envs\\llm_apps\\lib\\site-packages\\urllib3\\connectionpool.py:1100: InsecureRequestWarning: Unverified HTTPS request is being made to host 'localhost'. Adding certificate verification is strongly advised. See: https://urllib3.readthedocs.io/en/latest/advanced-usage.html#tls-warnings\n",
      "  warnings.warn(\n"
     ]
    }
   ],
   "source": [
    "opensearch_vector_search.create_search_pipeline(\n",
    "    search_pipeline_name=\"search_pipeline_keyword_1_vector_0\",\n",
    "    keyword_weight=1.0,\n",
    "    vector_weight=0.0,\n",
    ")"
   ]
  },
  {
   "cell_type": "code",
   "execution_count": 7,
   "metadata": {},
   "outputs": [
    {
     "name": "stderr",
     "output_type": "stream",
     "text": [
      "c:\\Users\\karthik.kolluri\\AppData\\Local\\anaconda3\\envs\\llm_apps\\lib\\site-packages\\urllib3\\connectionpool.py:1100: InsecureRequestWarning: Unverified HTTPS request is being made to host 'localhost'. Adding certificate verification is strongly advised. See: https://urllib3.readthedocs.io/en/latest/advanced-usage.html#tls-warnings\n",
      "  warnings.warn(\n"
     ]
    },
    {
     "data": {
      "text/plain": [
       "[{'_index': 'semantic-index',\n",
       "  '_id': 'doc653#chunk0',\n",
       "  '_score': 1.0,\n",
       "  '_source': {'metadata': {'date': '2022-06-01',\n",
       "    'parent_id': 'doc653',\n",
       "    'name': 'Vector Store',\n",
       "    'source': 'https://api.python.langchain.com/',\n",
       "    'published': False,\n",
       "    'lang': 'eng'},\n",
       "   'text': 'A vector database, vector store or vector search engine is a database that can store vectors (fixed-length lists of numbers) along with other data items. Vector databases typically implement one or more Approximate Nearest Neighbor (ANN) algorithms,[1][2] so that one can search the database with a query vector to retrieve the closest matching database records.Vectors are mathematical'}},\n",
       " {'_index': 'semantic-index',\n",
       "  '_id': 'doc653#chunk1',\n",
       "  '_score': 0.7864764,\n",
       "  '_source': {'metadata': {'date': '2022-06-01',\n",
       "    'parent_id': 'doc653',\n",
       "    'name': 'Vector Store',\n",
       "    'source': 'https://api.python.langchain.com/',\n",
       "    'published': False,\n",
       "    'lang': 'eng'},\n",
       "   'text': \"database records.Vectors are mathematical representations of data in a high-dimensional space. In this space, each dimension corresponds to a feature of the data, with the number of dimensions ranging from few hundreds to tens of thousands, depending on the complexity of the data being represented. A vector's position in this space represents its characteristics. Words, phrases, or entire\"}},\n",
       " {'_index': 'semantic-index',\n",
       "  '_id': 'doc633#chunk0',\n",
       "  '_score': 0.001,\n",
       "  '_source': {'metadata': {'date': '2018-05-19',\n",
       "    'parent_id': 'doc633',\n",
       "    'name': 'India',\n",
       "    'source': 'https://india.com/',\n",
       "    'published': True,\n",
       "    'lang': 'eng'},\n",
       "   'text': \"India, officially the Republic of India (ISO: Bhārat Gaṇarājya),[21] is a country in South Asia. It is the seventh-largest country by area; the most populous country with effect from June 2023;[22][23] and from the time of its independence in 1947, the world's most populous democracy.[24][25][26] Bounded by the Indian Ocean on the south, the Arabian Sea on the southwest, and the Bay of Bengal on\"}}]"
      ]
     },
     "execution_count": 7,
     "metadata": {},
     "output_type": "execute_result"
    }
   ],
   "source": [
    "results = opensearch_vector_search.hybrid_search(\n",
    "    query=\"what are the country named in our database?\",\n",
    "    top_k=3, \n",
    "    index_name=\"semantic-index\",\n",
    "    search_pipeline_name=\"search_pipeline_keyword_1_vector_0\",\n",
    ")\n",
    "\n",
    "results"
   ]
  },
  {
   "cell_type": "markdown",
   "metadata": {},
   "source": [
    "#### Keyword Search"
   ]
  },
  {
   "cell_type": "code",
   "execution_count": 40,
   "metadata": {},
   "outputs": [
    {
     "name": "stdout",
     "output_type": "stream",
     "text": [
      "OpenSearch client created successfully....!\n",
      "Document-1:\n",
      "==============================\n",
      "Content: \n",
      " A vector database, vector store or vector search engine is a database that can store vectors (fixed-length lists of numbers) along with other data items. Vector databases typically implement one or more Approximate Nearest Neighbor (ANN) algorithms,[1][2] so that one can search the database with a query vector to retrieve the closest matching database records.Vectors are mathematical\n",
      "\n",
      "\n",
      "Metadata: \n",
      " {'date': '2022-06-01', 'parent_id': 'doc653', 'name': 'Vector Store', 'source': 'https://api.python.langchain.com/', 'published': False, 'lang': 'eng'}\n",
      "\n",
      "\n",
      "Score: 5.952817\n",
      "\n",
      "\n",
      "-----------------------------------------------------------------------------------------------------------------------------\n",
      "Document-2:\n",
      "==============================\n",
      "Content: \n",
      " database records.Vectors are mathematical representations of data in a high-dimensional space. In this space, each dimension corresponds to a feature of the data, with the number of dimensions ranging from few hundreds to tens of thousands, depending on the complexity of the data being represented. A vector's position in this space represents its characteristics. Words, phrases, or entire\n",
      "\n",
      "\n",
      "Metadata: \n",
      " {'date': '2022-06-01', 'parent_id': 'doc653', 'name': 'Vector Store', 'source': 'https://api.python.langchain.com/', 'published': False, 'lang': 'eng'}\n",
      "\n",
      "\n",
      "Score: 5.653638\n",
      "\n",
      "\n",
      "-----------------------------------------------------------------------------------------------------------------------------\n",
      "Document-3:\n",
      "==============================\n",
      "Content: \n",
      " India, officially the Republic of India (ISO: Bhārat Gaṇarājya),[21] is a country in South Asia. It is the seventh-largest country by area; the most populous country with effect from June 2023;[22][23] and from the time of its independence in 1947, the world's most populous democracy.[24][25][26] Bounded by the Indian Ocean on the south, the Arabian Sea on the southwest, and the Bay of Bengal on\n",
      "\n",
      "\n",
      "Metadata: \n",
      " {'date': '2018-05-19', 'parent_id': 'doc633', 'name': 'India', 'source': 'https://india.com/', 'published': True, 'lang': 'eng'}\n",
      "\n",
      "\n",
      "Score: 4.551665\n",
      "\n",
      "\n",
      "-----------------------------------------------------------------------------------------------------------------------------\n"
     ]
    },
    {
     "name": "stderr",
     "output_type": "stream",
     "text": [
      "c:\\Users\\karthik.kolluri\\AppData\\Local\\anaconda3\\envs\\llm_apps\\lib\\site-packages\\opensearchpy\\connection\\http_requests.py:160: UserWarning: Connecting to https://localhost:9200 using SSL with verify_certs=False is insecure.\n",
      "  warnings.warn(\n",
      "c:\\Users\\karthik.kolluri\\AppData\\Local\\anaconda3\\envs\\llm_apps\\lib\\site-packages\\urllib3\\connectionpool.py:1100: InsecureRequestWarning: Unverified HTTPS request is being made to host 'localhost'. Adding certificate verification is strongly advised. See: https://urllib3.readthedocs.io/en/latest/advanced-usage.html#tls-warnings\n",
      "  warnings.warn(\n"
     ]
    }
   ],
   "source": [
    "results = opensearch_vector_search.keyword_search(\n",
    "    index_name=\"semantic-index\",\n",
    "    query=\"what are the country named in our database?\",\n",
    "    top_k=3,\n",
    ")\n",
    "\n",
    "pretty_print(results)"
   ]
  },
  {
   "cell_type": "markdown",
   "metadata": {},
   "source": [
    "### Experiment - 2\n",
    "\n",
    "#### Hybrid Search \n",
    "\n",
    "keyword_weight = 0.0, vector_weight = 1.0"
   ]
  },
  {
   "cell_type": "code",
   "execution_count": 10,
   "metadata": {},
   "outputs": [
    {
     "name": "stdout",
     "output_type": "stream",
     "text": [
      "Search pipeline search_pipeline_keyword_0_vector_1 created successfully....!\n",
      "Response: {'acknowledged': True}\n"
     ]
    },
    {
     "name": "stderr",
     "output_type": "stream",
     "text": [
      "c:\\Users\\karthik.kolluri\\AppData\\Local\\anaconda3\\envs\\llm_apps\\lib\\site-packages\\urllib3\\connectionpool.py:1100: InsecureRequestWarning: Unverified HTTPS request is being made to host 'localhost'. Adding certificate verification is strongly advised. See: https://urllib3.readthedocs.io/en/latest/advanced-usage.html#tls-warnings\n",
      "  warnings.warn(\n"
     ]
    }
   ],
   "source": [
    "# create search pipeline\n",
    "opensearch_vector_search.create_search_pipeline(\n",
    "    search_pipeline_name=\"search_pipeline_keyword_0_vector_1\",\n",
    "    keyword_weight=0.0,\n",
    "    vector_weight=1.0,\n",
    ") "
   ]
  },
  {
   "cell_type": "code",
   "execution_count": 34,
   "metadata": {},
   "outputs": [
    {
     "name": "stdout",
     "output_type": "stream",
     "text": [
      "Document-1:\n",
      "==============================\n",
      "Content: \n",
      " India, officially the Republic of India (ISO: Bhārat Gaṇarājya),[21] is a country in South Asia. It is the seventh-largest country by area; the most populous country with effect from June 2023;[22][23] and from the time of its independence in 1947, the world's most populous democracy.[24][25][26] Bounded by the Indian Ocean on the south, the Arabian Sea on the southwest, and the Bay of Bengal on\n",
      "\n",
      "\n",
      "Metadata: \n",
      " {'date': '2018-05-19', 'parent_id': 'doc633', 'name': 'India', 'source': 'https://india.com/', 'published': True, 'lang': 'eng'}\n",
      "\n",
      "\n",
      "Score: 1.0\n",
      "\n",
      "\n",
      "-----------------------------------------------------------------------------------------------------------------------------\n",
      "Document-2:\n",
      "==============================\n",
      "Content: \n",
      " Italy,[a] officially the Italian Republic,[b] is a country in Southern[12] and Western[13][c] Europe. It is located on a peninsula that extends into the middle of the Mediterranean Sea, with the Alps on its northern land border, as well as islands, notably Sicily and Sardinia.[15] Italy shares its borders with France, Switzerland, Austria, Slovenia and two enclaves: Vatican City and San Marino. It\n",
      "\n",
      "\n",
      "Metadata: \n",
      " {'date': '20240916', 'parent_id': 'doc345', 'name': 'Italy', 'source': 'https://api.python.langchain.com/', 'published': True, 'lang': 'eng'}\n",
      "\n",
      "\n",
      "Score: 0.2840611\n",
      "\n",
      "\n",
      "-----------------------------------------------------------------------------------------------------------------------------\n",
      "Document-3:\n",
      "==============================\n",
      "Content: \n",
      " and two enclaves: Vatican City and San Marino. It is the tenth-largest country in Europe, covering an area of 301,340 km2 (116,350 sq mi),[3] and third-most populous member state of the European Union, with a population of nearly 60 million.[16] Its capital and largest city is Rome; other major urban areas include Milan, Naples, Turin, Florence, and Venice.In antiquity, Italy was home to numerous\n",
      "\n",
      "\n",
      "Metadata: \n",
      " {'date': '20240916', 'parent_id': 'doc345', 'name': 'Italy', 'source': 'https://api.python.langchain.com/', 'published': True, 'lang': 'eng'}\n",
      "\n",
      "\n",
      "Score: 0.001\n",
      "\n",
      "\n",
      "-----------------------------------------------------------------------------------------------------------------------------\n"
     ]
    },
    {
     "name": "stderr",
     "output_type": "stream",
     "text": [
      "c:\\Users\\karthik.kolluri\\AppData\\Local\\anaconda3\\envs\\llm_apps\\lib\\site-packages\\urllib3\\connectionpool.py:1100: InsecureRequestWarning: Unverified HTTPS request is being made to host 'localhost'. Adding certificate verification is strongly advised. See: https://urllib3.readthedocs.io/en/latest/advanced-usage.html#tls-warnings\n",
      "  warnings.warn(\n"
     ]
    }
   ],
   "source": [
    "results = opensearch_vector_search.hybrid_search(\n",
    "    query=\"what are the country named in our database?\",\n",
    "    top_k=3, \n",
    "    index_name=\"semantic-index\",\n",
    "    search_pipeline_name=\"search_pipeline_keyword_0_vector_1\",\n",
    ")\n",
    "\n",
    "pretty_print(results)"
   ]
  },
  {
   "cell_type": "markdown",
   "metadata": {},
   "source": [
    "#### Vector Search"
   ]
  },
  {
   "cell_type": "code",
   "execution_count": 35,
   "metadata": {},
   "outputs": [
    {
     "name": "stderr",
     "output_type": "stream",
     "text": [
      "c:\\Users\\karthik.kolluri\\AppData\\Local\\anaconda3\\envs\\llm_apps\\lib\\site-packages\\opensearchpy\\connection\\http_requests.py:160: UserWarning: Connecting to https://localhost:9200 using SSL with verify_certs=False is insecure.\n",
      "  warnings.warn(\n"
     ]
    },
    {
     "name": "stdout",
     "output_type": "stream",
     "text": [
      "OpenSearch client created successfully....!\n",
      "Document-1:\n",
      "==============================\n",
      "Content: \n",
      " India, officially the Republic of India (ISO: Bhārat Gaṇarājya),[21] is a country in South Asia. It is the seventh-largest country by area; the most populous country with effect from June 2023;[22][23] and from the time of its independence in 1947, the world's most populous democracy.[24][25][26] Bounded by the Indian Ocean on the south, the Arabian Sea on the southwest, and the Bay of Bengal on\n",
      "\n",
      "\n",
      "Metadata: \n",
      " {'date': '2018-05-19', 'parent_id': 'doc633', 'name': 'India', 'source': 'https://india.com/', 'published': True, 'lang': 'eng'}\n",
      "\n",
      "\n",
      "Score: 1.7695986\n",
      "\n",
      "\n",
      "-----------------------------------------------------------------------------------------------------------------------------\n",
      "Document-2:\n",
      "==============================\n",
      "Content: \n",
      " Italy,[a] officially the Italian Republic,[b] is a country in Southern[12] and Western[13][c] Europe. It is located on a peninsula that extends into the middle of the Mediterranean Sea, with the Alps on its northern land border, as well as islands, notably Sicily and Sardinia.[15] Italy shares its borders with France, Switzerland, Austria, Slovenia and two enclaves: Vatican City and San Marino. It\n",
      "\n",
      "\n",
      "Metadata: \n",
      " {'date': '20240916', 'parent_id': 'doc345', 'name': 'Italy', 'source': 'https://api.python.langchain.com/', 'published': True, 'lang': 'eng'}\n",
      "\n",
      "\n",
      "Score: 1.7577173\n",
      "\n",
      "\n",
      "-----------------------------------------------------------------------------------------------------------------------------\n",
      "Document-3:\n",
      "==============================\n",
      "Content: \n",
      " and two enclaves: Vatican City and San Marino. It is the tenth-largest country in Europe, covering an area of 301,340 km2 (116,350 sq mi),[3] and third-most populous member state of the European Union, with a population of nearly 60 million.[16] Its capital and largest city is Rome; other major urban areas include Milan, Naples, Turin, Florence, and Venice.In antiquity, Italy was home to numerous\n",
      "\n",
      "\n",
      "Metadata: \n",
      " {'date': '20240916', 'parent_id': 'doc345', 'name': 'Italy', 'source': 'https://api.python.langchain.com/', 'published': True, 'lang': 'eng'}\n",
      "\n",
      "\n",
      "Score: 1.7530031\n",
      "\n",
      "\n",
      "-----------------------------------------------------------------------------------------------------------------------------\n"
     ]
    },
    {
     "name": "stderr",
     "output_type": "stream",
     "text": [
      "c:\\Users\\karthik.kolluri\\AppData\\Local\\anaconda3\\envs\\llm_apps\\lib\\site-packages\\urllib3\\connectionpool.py:1100: InsecureRequestWarning: Unverified HTTPS request is being made to host 'localhost'. Adding certificate verification is strongly advised. See: https://urllib3.readthedocs.io/en/latest/advanced-usage.html#tls-warnings\n",
      "  warnings.warn(\n"
     ]
    }
   ],
   "source": [
    "results = opensearch_vector_search.similarity_search(\n",
    "    index_name=\"semantic-index\",\n",
    "    query=\"what are the country named in our database?\",\n",
    "    top_k=3,\n",
    ")\n",
    "\n",
    "pretty_print(results)"
   ]
  },
  {
   "cell_type": "markdown",
   "metadata": {},
   "source": [
    "### Experiment - 3\n",
    "\n",
    "Hybrid Search - balanced \n",
    "\n",
    "keyword_weight = 0.5, vector_weight = 0.5"
   ]
  },
  {
   "cell_type": "code",
   "execution_count": 8,
   "metadata": {},
   "outputs": [
    {
     "name": "stdout",
     "output_type": "stream",
     "text": [
      "Search pipeline search_pipeline_keyword_05_vector_05 created successfully....!\n",
      "Response: {'acknowledged': True}\n"
     ]
    },
    {
     "name": "stderr",
     "output_type": "stream",
     "text": [
      "c:\\Users\\karthik.kolluri\\AppData\\Local\\anaconda3\\envs\\llm_apps\\lib\\site-packages\\urllib3\\connectionpool.py:1100: InsecureRequestWarning: Unverified HTTPS request is being made to host 'localhost'. Adding certificate verification is strongly advised. See: https://urllib3.readthedocs.io/en/latest/advanced-usage.html#tls-warnings\n",
      "  warnings.warn(\n"
     ]
    }
   ],
   "source": [
    "opensearch_vector_search.create_search_pipeline(\n",
    "    search_pipeline_name=\"search_pipeline_keyword_05_vector_05\",\n",
    "    keyword_weight=0.5,\n",
    "    vector_weight=0.5,\n",
    ")"
   ]
  },
  {
   "cell_type": "code",
   "execution_count": 9,
   "metadata": {},
   "outputs": [
    {
     "name": "stdout",
     "output_type": "stream",
     "text": [
      "Document-1:\n",
      "==============================\n",
      "Content: \n",
      " India, officially the Republic of India (ISO: Bhārat Gaṇarājya),[21] is a country in South Asia. It is the seventh-largest country by area; the most populous country with effect from June 2023;[22][23] and from the time of its independence in 1947, the world's most populous democracy.[24][25][26] Bounded by the Indian Ocean on the south, the Arabian Sea on the southwest, and the Bay of Bengal on\n",
      "\n",
      "\n",
      "Metadata: \n",
      " {'date': '2018-05-19', 'parent_id': 'doc633', 'name': 'India', 'source': 'https://india.com/', 'published': True, 'lang': 'eng'}\n",
      "\n",
      "\n",
      "Score: 0.5005\n",
      "\n",
      "\n",
      "-----------------------------------------------------------------------------------------------------------------------------\n",
      "Document-2:\n",
      "==============================\n",
      "Content: \n",
      " A vector database, vector store or vector search engine is a database that can store vectors (fixed-length lists of numbers) along with other data items. Vector databases typically implement one or more Approximate Nearest Neighbor (ANN) algorithms,[1][2] so that one can search the database with a query vector to retrieve the closest matching database records.Vectors are mathematical\n",
      "\n",
      "\n",
      "Metadata: \n",
      " {'date': '2022-06-01', 'parent_id': 'doc653', 'name': 'Vector Store', 'source': 'https://api.python.langchain.com/', 'published': False, 'lang': 'eng'}\n",
      "\n",
      "\n",
      "Score: 0.5\n",
      "\n",
      "\n",
      "-----------------------------------------------------------------------------------------------------------------------------\n",
      "Document-3:\n",
      "==============================\n",
      "Content: \n",
      " database records.Vectors are mathematical representations of data in a high-dimensional space. In this space, each dimension corresponds to a feature of the data, with the number of dimensions ranging from few hundreds to tens of thousands, depending on the complexity of the data being represented. A vector's position in this space represents its characteristics. Words, phrases, or entire\n",
      "\n",
      "\n",
      "Metadata: \n",
      " {'date': '2022-06-01', 'parent_id': 'doc653', 'name': 'Vector Store', 'source': 'https://api.python.langchain.com/', 'published': False, 'lang': 'eng'}\n",
      "\n",
      "\n",
      "Score: 0.3932382\n",
      "\n",
      "\n",
      "-----------------------------------------------------------------------------------------------------------------------------\n"
     ]
    },
    {
     "name": "stderr",
     "output_type": "stream",
     "text": [
      "c:\\Users\\karthik.kolluri\\AppData\\Local\\anaconda3\\envs\\llm_apps\\lib\\site-packages\\urllib3\\connectionpool.py:1100: InsecureRequestWarning: Unverified HTTPS request is being made to host 'localhost'. Adding certificate verification is strongly advised. See: https://urllib3.readthedocs.io/en/latest/advanced-usage.html#tls-warnings\n",
      "  warnings.warn(\n"
     ]
    }
   ],
   "source": [
    "results = opensearch_vector_search.hybrid_search(\n",
    "    search_pipeline_name=\"search_pipeline_keyword_05_vector_05\",\n",
    "    query=\"what are the country named in our database?\",\n",
    "    top_k=3,\n",
    "    index_name=\"semantic-index\",\n",
    ")\n",
    "\n",
    "pretty_print(results)"
   ]
  },
  {
   "cell_type": "markdown",
   "metadata": {},
   "source": [
    "## Hybrid Search - Metadata Filtering"
   ]
  },
  {
   "cell_type": "markdown",
   "metadata": {},
   "source": [
    "#### Example-1: \n",
    "\n",
    "Retrieve only top-k documents which are not yet published & related to this query: \"what are the country named in our database?\"\n",
    "\n",
    "published == 'False'\n",
    "\n",
    "Weightage: keyword_weight=0.5, vector_weight=0.5,"
   ]
  },
  {
   "cell_type": "code",
   "execution_count": 10,
   "metadata": {},
   "outputs": [
    {
     "name": "stdout",
     "output_type": "stream",
     "text": [
      "Search pipeline search_pipeline_keyword_05_vector_05 created successfully....!\n",
      "Response: {'acknowledged': True}\n"
     ]
    },
    {
     "name": "stderr",
     "output_type": "stream",
     "text": [
      "c:\\Users\\karthik.kolluri\\AppData\\Local\\anaconda3\\envs\\llm_apps\\lib\\site-packages\\urllib3\\connectionpool.py:1100: InsecureRequestWarning: Unverified HTTPS request is being made to host 'localhost'. Adding certificate verification is strongly advised. See: https://urllib3.readthedocs.io/en/latest/advanced-usage.html#tls-warnings\n",
      "  warnings.warn(\n"
     ]
    }
   ],
   "source": [
    "opensearch_vector_search.create_search_pipeline(\n",
    "    search_pipeline_name=\"search_pipeline_keyword_05_vector_05\",\n",
    "    keyword_weight=0.5,\n",
    "    vector_weight=0.5,\n",
    ")"
   ]
  },
  {
   "cell_type": "code",
   "execution_count": 11,
   "metadata": {},
   "outputs": [
    {
     "name": "stdout",
     "output_type": "stream",
     "text": [
      "Document-1:\n",
      "==============================\n",
      "Content: \n",
      " A vector database, vector store or vector search engine is a database that can store vectors (fixed-length lists of numbers) along with other data items. Vector databases typically implement one or more Approximate Nearest Neighbor (ANN) algorithms,[1][2] so that one can search the database with a query vector to retrieve the closest matching database records.Vectors are mathematical\n",
      "\n",
      "\n",
      "Metadata: \n",
      " {'date': '2022-06-01', 'parent_id': 'doc653', 'name': 'Vector Store', 'source': 'https://api.python.langchain.com/', 'published': False, 'lang': 'eng'}\n",
      "\n",
      "\n",
      "Score: 0.5\n",
      "\n",
      "\n",
      "-----------------------------------------------------------------------------------------------------------------------------\n",
      "Document-2:\n",
      "==============================\n",
      "Content: \n",
      " database records.Vectors are mathematical representations of data in a high-dimensional space. In this space, each dimension corresponds to a feature of the data, with the number of dimensions ranging from few hundreds to tens of thousands, depending on the complexity of the data being represented. A vector's position in this space represents its characteristics. Words, phrases, or entire\n",
      "\n",
      "\n",
      "Metadata: \n",
      " {'date': '2022-06-01', 'parent_id': 'doc653', 'name': 'Vector Store', 'source': 'https://api.python.langchain.com/', 'published': False, 'lang': 'eng'}\n",
      "\n",
      "\n",
      "Score: 0.4384681\n",
      "\n",
      "\n",
      "-----------------------------------------------------------------------------------------------------------------------------\n",
      "Document-3:\n",
      "==============================\n",
      "Content: \n",
      " code generation, analysis, and debugging; Milvus vector database[11] to store and retrieve vector embeddings; Weaviate vector database[12] to cache embedding and data objects; Redis cache database storage; Python RequestsWrapper and other methods for API requests; SQL and NoSQL databases including JSON support; Streamlit, including for logging; text mapping for k-nearest neighbors search; time\n",
      "\n",
      "\n",
      "Metadata: \n",
      " {'date': '2024-02-28', 'parent_id': 'doc333', 'name': 'Langchain', 'source': 'https://api.python.langchain.com/', 'published': False, 'lang': 'eng'}\n",
      "\n",
      "\n",
      "Score: 0.0005\n",
      "\n",
      "\n",
      "-----------------------------------------------------------------------------------------------------------------------------\n"
     ]
    },
    {
     "name": "stderr",
     "output_type": "stream",
     "text": [
      "c:\\Users\\karthik.kolluri\\AppData\\Local\\anaconda3\\envs\\llm_apps\\lib\\site-packages\\urllib3\\connectionpool.py:1100: InsecureRequestWarning: Unverified HTTPS request is being made to host 'localhost'. Adding certificate verification is strongly advised. See: https://urllib3.readthedocs.io/en/latest/advanced-usage.html#tls-warnings\n",
      "  warnings.warn(\n"
     ]
    }
   ],
   "source": [
    "results = opensearch_vector_search.hybrid_search(\n",
    "    search_pipeline_name=\"search_pipeline_keyword_05_vector_05\",\n",
    "    query=\"what are the country named in our database?\",\n",
    "    top_k=3,\n",
    "    index_name=\"semantic-index\",\n",
    "    post_filter= {\"bool\": {\"filter\": {\"term\": {\"metadata.published\": False}}}}\n",
    ")\n",
    "\n",
    "pretty_print(results)"
   ]
  },
  {
   "cell_type": "markdown",
   "metadata": {},
   "source": [
    "Same Query but without any Metadata filtering"
   ]
  },
  {
   "cell_type": "code",
   "execution_count": 13,
   "metadata": {},
   "outputs": [
    {
     "name": "stdout",
     "output_type": "stream",
     "text": [
      "Document-1:\n",
      "==============================\n",
      "Content: \n",
      " India, officially the Republic of India (ISO: Bhārat Gaṇarājya),[21] is a country in South Asia. It is the seventh-largest country by area; the most populous country with effect from June 2023;[22][23] and from the time of its independence in 1947, the world's most populous democracy.[24][25][26] Bounded by the Indian Ocean on the south, the Arabian Sea on the southwest, and the Bay of Bengal on\n",
      "\n",
      "\n",
      "Metadata: \n",
      " {'date': '2018-05-19', 'parent_id': 'doc633', 'name': 'India', 'source': 'https://india.com/', 'published': True, 'lang': 'eng'}\n",
      "\n",
      "\n",
      "Score: 0.5005\n",
      "\n",
      "\n",
      "-----------------------------------------------------------------------------------------------------------------------------\n",
      "Document-2:\n",
      "==============================\n",
      "Content: \n",
      " A vector database, vector store or vector search engine is a database that can store vectors (fixed-length lists of numbers) along with other data items. Vector databases typically implement one or more Approximate Nearest Neighbor (ANN) algorithms,[1][2] so that one can search the database with a query vector to retrieve the closest matching database records.Vectors are mathematical\n",
      "\n",
      "\n",
      "Metadata: \n",
      " {'date': '2022-06-01', 'parent_id': 'doc653', 'name': 'Vector Store', 'source': 'https://api.python.langchain.com/', 'published': False, 'lang': 'eng'}\n",
      "\n",
      "\n",
      "Score: 0.5\n",
      "\n",
      "\n",
      "-----------------------------------------------------------------------------------------------------------------------------\n",
      "Document-3:\n",
      "==============================\n",
      "Content: \n",
      " database records.Vectors are mathematical representations of data in a high-dimensional space. In this space, each dimension corresponds to a feature of the data, with the number of dimensions ranging from few hundreds to tens of thousands, depending on the complexity of the data being represented. A vector's position in this space represents its characteristics. Words, phrases, or entire\n",
      "\n",
      "\n",
      "Metadata: \n",
      " {'date': '2022-06-01', 'parent_id': 'doc653', 'name': 'Vector Store', 'source': 'https://api.python.langchain.com/', 'published': False, 'lang': 'eng'}\n",
      "\n",
      "\n",
      "Score: 0.3932382\n",
      "\n",
      "\n",
      "-----------------------------------------------------------------------------------------------------------------------------\n"
     ]
    },
    {
     "name": "stderr",
     "output_type": "stream",
     "text": [
      "c:\\Users\\karthik.kolluri\\AppData\\Local\\anaconda3\\envs\\llm_apps\\lib\\site-packages\\urllib3\\connectionpool.py:1100: InsecureRequestWarning: Unverified HTTPS request is being made to host 'localhost'. Adding certificate verification is strongly advised. See: https://urllib3.readthedocs.io/en/latest/advanced-usage.html#tls-warnings\n",
      "  warnings.warn(\n"
     ]
    }
   ],
   "source": [
    "results = opensearch_vector_search.hybrid_search(\n",
    "    search_pipeline_name=\"search_pipeline_keyword_05_vector_05\",\n",
    "    query=\"what are the country named in our database\",\n",
    "    top_k=3,\n",
    "    index_name=\"semantic-index\"\n",
    ")\n",
    "\n",
    "pretty_print(results)"
   ]
  },
  {
   "cell_type": "markdown",
   "metadata": {},
   "source": [
    "#### Example-2: \n",
    "\n",
    "Retrieve only top-k documents which are in italian language & related to this query: \"what are the country named in our database?\"\n",
    "\n",
    "lang == 'ita'\n",
    "\n",
    "Weightage: keyword_weight=0.5, vector_weight=0.5,"
   ]
  },
  {
   "cell_type": "code",
   "execution_count": 8,
   "metadata": {},
   "outputs": [
    {
     "name": "stdout",
     "output_type": "stream",
     "text": [
      "Document-1:\n",
      "==============================\n",
      "Content: \n",
      " software continui. La smentita fa seguito alla reazione negativa sui commenti fatti dal CEO Hanneke Faber, che aveva accennato alla possibilità durante un'intervista podcast con The Verge.In risposta a questi rapporti, la responsabile delle comunicazioni di Logitech, Nicole Kenyon, ha chiarito: Non ci sono piani per un mouse in abbonamento. Questa dichiarazione è stata rilasciata a diversi media\n",
      "\n",
      "\n",
      "Metadata: \n",
      " {'date': '2023-07-28', 'parent_id': 'doc513', 'name': 'L’ultimo aggiornamento', 'section': 'news', 'source': 'https://dailyhunt.com', 'published': True, 'lang': 'ita'}\n",
      "\n",
      "\n",
      "Score: 1.0\n",
      "\n",
      "\n",
      "-----------------------------------------------------------------------------------------------------------------------------\n",
      "Document-2:\n",
      "==============================\n",
      "Content: \n",
      " La smentita fa seguito alla reazione negativa sui commenti fatti dal CEO Hanneke Faber, che aveva accennato alla possibilità durante un'intervista podcast con The Verge.In risposta a questi rapporti, la responsabile delle comunicazioni di Logitech, Nicole Kenyon, ha chiarito: Non ci sono piani per un mouse in abbonamento. Questa dichiarazione è stata rilasciata a diversi media sulla scia delle\n",
      "\n",
      "\n",
      "Metadata: \n",
      " {'date': '2018-05-19', 'parent_id': 'doc633', 'name': 'più pesante', 'section': 'news', 'source': 'https://dailyhunt.com', 'published': True, 'lang': 'ita'}\n",
      "\n",
      "\n",
      "Score: 0.5\n",
      "\n",
      "\n",
      "-----------------------------------------------------------------------------------------------------------------------------\n"
     ]
    },
    {
     "name": "stderr",
     "output_type": "stream",
     "text": [
      "c:\\Users\\karthik.kolluri\\AppData\\Local\\anaconda3\\envs\\llm_apps\\lib\\site-packages\\urllib3\\connectionpool.py:1100: InsecureRequestWarning: Unverified HTTPS request is being made to host 'localhost'. Adding certificate verification is strongly advised. See: https://urllib3.readthedocs.io/en/latest/advanced-usage.html#tls-warnings\n",
      "  warnings.warn(\n"
     ]
    }
   ],
   "source": [
    "results = opensearch_vector_search.hybrid_search(\n",
    "    search_pipeline_name=\"search_pipeline_keyword_05_vector_05\",\n",
    "    query=\"what are the news\",\n",
    "    top_k=3,\n",
    "    index_name=\"semantic-index\",\n",
    "    post_filter= {\"bool\": {\"filter\": {\"term\": {\"metadata.lang\": \"ita\"}}}}\n",
    ")\n",
    "\n",
    "pretty_print(results)"
   ]
  },
  {
   "cell_type": "markdown",
   "metadata": {},
   "source": [
    "#### Example-3\n",
    "\n",
    "Retrieve only top-k documents which are coming from 'sports' section & related to this query: \"what are the country named in our database?\n",
    "\n",
    "section == sports\n",
    "\n",
    "Weightage: keyword_weight=0.5, vector_weight=0.5"
   ]
  },
  {
   "cell_type": "code",
   "execution_count": 16,
   "metadata": {},
   "outputs": [
    {
     "name": "stdout",
     "output_type": "stream",
     "text": [
      "Document-1:\n",
      "==============================\n",
      "Content: \n",
      " place in the morning of the first competition day. On the second competition day, wrestlers who have qualified for the finals and repechage are weighed in again.It is with regret that the Indian contingent shares news of the disqualification of Vinesh Phogat from the women’s wrestling 50kg class,” the Indian Olympic Association (IOA) said in a statement. “Despite the best efforts by the team\n",
      "\n",
      "\n",
      "Metadata: \n",
      " {'date': '2024-08-07', 'parent_id': 'doc680', 'name': 'Why Vinesh Phogat was disqualified from Paris 2024 Olympics wrestling', 'section': 'sports', 'source': 'https://newstoday.com', 'published': True, 'lang': 'eng'}\n",
      "\n",
      "\n",
      "Score: 0.5005\n",
      "\n",
      "\n",
      "-----------------------------------------------------------------------------------------------------------------------------\n",
      "Document-2:\n",
      "==============================\n",
      "Content: \n",
      " statement. “Despite the best efforts by the team through the night, she weighed in a few grams over 50kg this morning.No further comments will be made by the contingent at this time. The Indian team requests you respect Vinesh’s privacy. It would like to focus on the competitions on hand.Vinesh Phogat was eligible for competition on the opening day but weighed just over 50kg on Thursday\n",
      "\n",
      "\n",
      "Metadata: \n",
      " {'date': '2024-08-07', 'parent_id': 'doc680', 'name': 'Why Vinesh Phogat was disqualified from Paris 2024 Olympics wrestling', 'section': 'sports', 'source': 'https://newstoday.com', 'published': True, 'lang': 'eng'}\n",
      "\n",
      "\n",
      "Score: 0.5\n",
      "\n",
      "\n",
      "-----------------------------------------------------------------------------------------------------------------------------\n",
      "Document-3:\n",
      "==============================\n",
      "Content: \n",
      " ha affermato in una nota l'Associazione olimpica indiana (IOA). “Nonostante i migliori sforzi compiuti dalla squadra durante la notte, stamattina pesava pochi grammi più di 50 kg.Non verranno rilasciati ulteriori commenti da parte del contingente in questo momento. Il team indiano ti chiede di rispettare la privacy di Vinesh. Vorrebbe concentrarsi sulle competizioni in corso.Vinesh Phogat poteva\n",
      "\n",
      "\n",
      "Metadata: \n",
      " {'date': '2024-08-07', 'parent_id': 'doc754', 'name': 'Perché Vinesh Phogat è stato squalificato dal wrestling delle Olimpiadi di Parigi 2024', 'section': 'sports', 'source': 'https://newstoday.com', 'published': True, 'lang': 'ita'}\n",
      "\n",
      "\n",
      "Score: 0.08435757\n",
      "\n",
      "\n",
      "-----------------------------------------------------------------------------------------------------------------------------\n"
     ]
    },
    {
     "name": "stderr",
     "output_type": "stream",
     "text": [
      "c:\\Users\\karthik.kolluri\\AppData\\Local\\anaconda3\\envs\\llm_apps\\lib\\site-packages\\urllib3\\connectionpool.py:1100: InsecureRequestWarning: Unverified HTTPS request is being made to host 'localhost'. Adding certificate verification is strongly advised. See: https://urllib3.readthedocs.io/en/latest/advanced-usage.html#tls-warnings\n",
      "  warnings.warn(\n"
     ]
    }
   ],
   "source": [
    "results = opensearch_vector_search.hybrid_search(\n",
    "    search_pipeline_name=\"search_pipeline_keyword_05_vector_05\",\n",
    "    query=\"what is latest sports news today\",\n",
    "    top_k=3,\n",
    "    index_name=\"semantic-index\",\n",
    "    post_filter= {\"bool\": {\"filter\": {\"term\": {\"metadata.section\": \"sports\"}}}}\n",
    ")\n",
    "\n",
    "pretty_print(results)"
   ]
  },
  {
   "cell_type": "markdown",
   "metadata": {},
   "source": [
    "#### Example-4\n",
    "\n",
    "Retrieve only top-k documents related to this query: \"what are the country named in our database? \n",
    "\n",
    "& (post filter)\n",
    "\n",
    "which are published in between these dates from '2018-01-01' to '2021-01-01'\n",
    "\n",
    "**Condition:** range: greater than: 2018-01-01 & less than: 2021-01-01\n",
    "\n",
    "Weightage: keyword_weight=0.5, vector_weight=0.5"
   ]
  },
  {
   "cell_type": "code",
   "execution_count": 19,
   "metadata": {},
   "outputs": [
    {
     "name": "stdout",
     "output_type": "stream",
     "text": [
      "Document-1:\n",
      "==============================\n",
      "Content: \n",
      " of Helen telling him they need to go home. He breaks into a nearby animal clinic, treats his wounds, and adopts a pit bull puppy scheduled to be euthanized before beginning to walk home.\n",
      "\n",
      "\n",
      "Metadata: \n",
      " {'date': '2020-09-16', 'parent_id': 'doc123', 'name': 'John wick: Chapter 1', 'source': 'https://johnwick.com/', 'published': True, 'lang': 'eng'}\n",
      "\n",
      "\n",
      "Score: 0.5\n",
      "\n",
      "\n",
      "-----------------------------------------------------------------------------------------------------------------------------\n",
      "Document-2:\n",
      "==============================\n",
      "Content: \n",
      " margins of the Indus river basin 9,000 years ago, evolving gradually into the Indus Valley Civilisation of the third millennium BCE.[32] By 1200 BCE, an archaic form of Sanskrit, an Indo-European language, had diffused into India from the northwest.[33][34] Its evidence today is found in the hymns of the Rigveda. Preserved by an oral tradition that was resolutely vigilant, the Rigveda records the\n",
      "\n",
      "\n",
      "Metadata: \n",
      " {'date': '2018-05-19', 'parent_id': 'doc633', 'name': 'India', 'source': 'https://india.com/', 'published': True, 'lang': 'eng'}\n",
      "\n",
      "\n",
      "Score: 0.5\n",
      "\n",
      "\n",
      "-----------------------------------------------------------------------------------------------------------------------------\n",
      "Document-3:\n",
      "==============================\n",
      "Content: \n",
      " for the underworld and where conducting criminal business is forbidden. Winston, the hotel's owner and John's old friend, informs him that Iosef is at a nightclub called Red Circle. John infiltrates Red Circle and confronts Iosef, but he is attacked by Viggo's henchman Kirill and forced to retreat to the Continental for medical attention.As John rests, a hitwoman, Ms. Perkins, sneaks into his\n",
      "\n",
      "\n",
      "Metadata: \n",
      " {'date': '2020-09-16', 'parent_id': 'doc123', 'name': 'John wick: Chapter 1', 'source': 'https://johnwick.com/', 'published': True, 'lang': 'eng'}\n",
      "\n",
      "\n",
      "Score: 0.05384839\n",
      "\n",
      "\n",
      "-----------------------------------------------------------------------------------------------------------------------------\n"
     ]
    },
    {
     "name": "stderr",
     "output_type": "stream",
     "text": [
      "c:\\Users\\karthik.kolluri\\AppData\\Local\\anaconda3\\envs\\llm_apps\\lib\\site-packages\\urllib3\\connectionpool.py:1100: InsecureRequestWarning: Unverified HTTPS request is being made to host 'localhost'. Adding certificate verification is strongly advised. See: https://urllib3.readthedocs.io/en/latest/advanced-usage.html#tls-warnings\n",
      "  warnings.warn(\n"
     ]
    }
   ],
   "source": [
    "results = opensearch_vector_search.hybrid_search(\n",
    "    search_pipeline_name=\"search_pipeline_keyword_05_vector_05\",\n",
    "    query=\"what is latest sports news today\",\n",
    "    top_k=3,\n",
    "    index_name=\"semantic-index\",\n",
    "    post_filter= {\"bool\": \n",
    "                      {\"filter\": \n",
    "                       {\"range\": {\"metadata.date\": \n",
    "                                  {\"gte\": '2018-01-01', \"lte\": '2021-01-01'}}}}}\n",
    ")\n",
    "\n",
    "pretty_print(results)"
   ]
  },
  {
   "cell_type": "markdown",
   "metadata": {},
   "source": [
    "#### Example-5 \n",
    "\n",
    "Combining muliple metadata filtering"
   ]
  },
  {
   "cell_type": "code",
   "execution_count": 22,
   "metadata": {},
   "outputs": [
    {
     "name": "stdout",
     "output_type": "stream",
     "text": [
      "Document-1:\n",
      "==============================\n",
      "Content: \n",
      " of Helen telling him they need to go home. He breaks into a nearby animal clinic, treats his wounds, and adopts a pit bull puppy scheduled to be euthanized before beginning to walk home.\n",
      "\n",
      "\n",
      "Metadata: \n",
      " {'date': '2020-09-16', 'parent_id': 'doc123', 'name': 'John wick: Chapter 1', 'source': 'https://johnwick.com/', 'published': True, 'lang': 'eng'}\n",
      "\n",
      "\n",
      "Score: 0.5\n",
      "\n",
      "\n",
      "-----------------------------------------------------------------------------------------------------------------------------\n",
      "Document-2:\n",
      "==============================\n",
      "Content: \n",
      " margins of the Indus river basin 9,000 years ago, evolving gradually into the Indus Valley Civilisation of the third millennium BCE.[32] By 1200 BCE, an archaic form of Sanskrit, an Indo-European language, had diffused into India from the northwest.[33][34] Its evidence today is found in the hymns of the Rigveda. Preserved by an oral tradition that was resolutely vigilant, the Rigveda records the\n",
      "\n",
      "\n",
      "Metadata: \n",
      " {'date': '2018-05-19', 'parent_id': 'doc633', 'name': 'India', 'source': 'https://india.com/', 'published': True, 'lang': 'eng'}\n",
      "\n",
      "\n",
      "Score: 0.5\n",
      "\n",
      "\n",
      "-----------------------------------------------------------------------------------------------------------------------------\n",
      "Document-3:\n",
      "==============================\n",
      "Content: \n",
      " for the underworld and where conducting criminal business is forbidden. Winston, the hotel's owner and John's old friend, informs him that Iosef is at a nightclub called Red Circle. John infiltrates Red Circle and confronts Iosef, but he is attacked by Viggo's henchman Kirill and forced to retreat to the Continental for medical attention.As John rests, a hitwoman, Ms. Perkins, sneaks into his\n",
      "\n",
      "\n",
      "Metadata: \n",
      " {'date': '2020-09-16', 'parent_id': 'doc123', 'name': 'John wick: Chapter 1', 'source': 'https://johnwick.com/', 'published': True, 'lang': 'eng'}\n",
      "\n",
      "\n",
      "Score: 0.05384839\n",
      "\n",
      "\n",
      "-----------------------------------------------------------------------------------------------------------------------------\n"
     ]
    },
    {
     "name": "stderr",
     "output_type": "stream",
     "text": [
      "c:\\Users\\karthik.kolluri\\AppData\\Local\\anaconda3\\envs\\llm_apps\\lib\\site-packages\\urllib3\\connectionpool.py:1100: InsecureRequestWarning: Unverified HTTPS request is being made to host 'localhost'. Adding certificate verification is strongly advised. See: https://urllib3.readthedocs.io/en/latest/advanced-usage.html#tls-warnings\n",
      "  warnings.warn(\n"
     ]
    }
   ],
   "source": [
    "results = opensearch_vector_search.hybrid_search(\n",
    "    search_pipeline_name=\"search_pipeline_keyword_05_vector_05\",\n",
    "    query=\"what is latest sports news today\",\n",
    "    top_k=3,\n",
    "    index_name=\"semantic-index\",\n",
    "    post_filter= {\"bool\": \n",
    "        {\"filter\": [\n",
    "        {\"range\": {\"metadata.date\": {\"gte\": '2018-01-01', \"lte\": '2021-01-01'}}},\n",
    "        {\"term\": {\"metadata.published\": True}}\n",
    "        ]\n",
    "        }}\n",
    ")\n",
    "\n",
    "pretty_print(results)"
   ]
  }
 ],
 "metadata": {
  "kernelspec": {
   "display_name": "llm_apps",
   "language": "python",
   "name": "python3"
  },
  "language_info": {
   "codemirror_mode": {
    "name": "ipython",
    "version": 3
   },
   "file_extension": ".py",
   "mimetype": "text/x-python",
   "name": "python",
   "nbconvert_exporter": "python",
   "pygments_lexer": "ipython3",
   "version": "3.10.0"
  }
 },
 "nbformat": 4,
 "nbformat_minor": 2
}
